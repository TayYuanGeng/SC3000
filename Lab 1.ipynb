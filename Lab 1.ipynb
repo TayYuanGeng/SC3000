{
  "cells": [
    {
      "cell_type": "markdown",
      "source": [
        "<a href=\"https://colab.research.google.com/github/TayYuanGeng/SC3000/blob/main/Lab%201.ipynb\" target=\"_parent\"><img src=\"https://colab.research.google.com/assets/colab-badge.svg\" alt=\"Open In Colab\"/></a>"
      ],
      "metadata": {
        "id": "FpMFy9bw-mHL"
      }
    },
    {
      "cell_type": "markdown",
      "metadata": {
        "id": "ZauhjPSfX7pI"
      },
      "source": [
        "# Lab Assignment 1"
      ]
    },
    {
      "cell_type": "markdown",
      "metadata": {
        "id": "UBiYOoesYMvr"
      },
      "source": [
        "## Installing dependencies:"
      ]
    },
    {
      "cell_type": "code",
      "execution_count": 3,
      "metadata": {
        "colab": {
          "base_uri": "https://localhost:8080/"
        },
        "id": "PbgnVwZmX5uW",
        "outputId": "c33ec127-b682-46fd-9b58-0a72e263dc64"
      },
      "outputs": [
        {
          "output_type": "stream",
          "name": "stdout",
          "text": [
            "Requirement already satisfied: gymnasium[classic_control] in /usr/local/lib/python3.11/dist-packages (1.1.0)\n",
            "Requirement already satisfied: numpy>=1.21.0 in /usr/local/lib/python3.11/dist-packages (from gymnasium[classic_control]) (1.26.4)\n",
            "Requirement already satisfied: cloudpickle>=1.2.0 in /usr/local/lib/python3.11/dist-packages (from gymnasium[classic_control]) (3.1.1)\n",
            "Requirement already satisfied: typing-extensions>=4.3.0 in /usr/local/lib/python3.11/dist-packages (from gymnasium[classic_control]) (4.12.2)\n",
            "Requirement already satisfied: farama-notifications>=0.0.1 in /usr/local/lib/python3.11/dist-packages (from gymnasium[classic_control]) (0.0.4)\n",
            "Requirement already satisfied: pygame>=2.1.3 in /usr/local/lib/python3.11/dist-packages (from gymnasium[classic_control]) (2.6.1)\n",
            "Requirement already satisfied: setuptools in /usr/local/lib/python3.11/dist-packages (75.8.2)\n"
          ]
        }
      ],
      "source": [
        "!apt-get install -y xvfb python-opengl > /dev/null 2>&1\n",
        "!pip install gym pyvirtualdisplay > /dev/null 2>&1\n",
        "!pip install gym pyvirtualdisplay > /dev/null 2>&1\n",
        "!apt-get install -y xvfb python-opengl ffmpeg > /dev/null 2>&1\n",
        "!pip install 'gymnasium[classic_control]'\n",
        "!apt-get update > /dev/null 2>&1\n",
        "!apt-get install cmake > /dev/null 2>&1\n",
        "!pip install --upgrade setuptools 2>&1\n",
        "!pip install ez_setup > /dev/null 2>&1\n",
        "!pip install moviepy > /dev/null 2>&1"
      ]
    },
    {
      "cell_type": "markdown",
      "metadata": {
        "id": "RwKbYeTgbaTA"
      },
      "source": [
        "## Importing dependencies and define helper functions"
      ]
    },
    {
      "cell_type": "code",
      "execution_count": 4,
      "metadata": {
        "id": "j6KpgCLGYWmj"
      },
      "outputs": [],
      "source": [
        "import gym\n",
        "from gym import logger as gymlogger\n",
        "from gym.wrappers import RecordVideo\n",
        "import tensorflow as tf\n",
        "import numpy as np\n",
        "import random\n",
        "import matplotlib\n",
        "import matplotlib.pyplot as plt\n",
        "%matplotlib inline\n",
        "import math\n",
        "import glob\n",
        "import io\n",
        "import base64\n",
        "from IPython.display import HTML\n",
        "from IPython import display as ipythondisplay\n",
        "from collections import defaultdict # Used for training agent\n",
        "\n",
        "gymlogger.set_level(40) #show error only\n",
        "\n",
        "def condense_rewards(rewards, group_size=5000):\n",
        "    return [np.mean(rewards[i:i + group_size]) for i in range(0, len(rewards), group_size)]\n",
        "\n",
        "def show_video():\n",
        "  mp4list = glob.glob('video/*.mp4')\n",
        "  if len(mp4list) > 0:\n",
        "    mp4 = mp4list[0]\n",
        "    video = io.open(mp4, 'r+b').read()\n",
        "    encoded = base64.b64encode(video)\n",
        "    ipythondisplay.display(HTML(data='''<video alt=\"test\" autoplay\n",
        "                loop controls style=\"height: 400px;\">\n",
        "                <source src=\"data:video/mp4;base64,{0}\" type=\"video/mp4\" />\n",
        "             </video>'''.format(encoded.decode('ascii'))))\n",
        "  else:\n",
        "    print(\"Could not find video\")"
      ]
    },
    {
      "cell_type": "markdown",
      "metadata": {
        "id": "ehbqP9CXbmo7"
      },
      "source": [
        "## Loading CartPole environment"
      ]
    },
    {
      "cell_type": "code",
      "execution_count": 5,
      "metadata": {
        "id": "Go12dH4qbwBy"
      },
      "outputs": [],
      "source": [
        "env = gym.make(\"CartPole-v1\")"
      ]
    },
    {
      "cell_type": "markdown",
      "metadata": {
        "id": "9XZ9g3xrcAXE"
      },
      "source": [
        "We can check the action and observation space of this environment. Discrete(2) means that there are two valid discrete actions: 0 & 1."
      ]
    },
    {
      "cell_type": "code",
      "execution_count": 6,
      "metadata": {
        "colab": {
          "base_uri": "https://localhost:8080/"
        },
        "id": "ytxvVmLdcRyw",
        "outputId": "05f20b80-198f-4f9d-bcc8-ef8104eaa303"
      },
      "outputs": [
        {
          "output_type": "stream",
          "name": "stdout",
          "text": [
            "Discrete(2)\n"
          ]
        }
      ],
      "source": [
        "print(env.action_space)"
      ]
    },
    {
      "cell_type": "markdown",
      "metadata": {
        "id": "pVXGWi_Ncfg-"
      },
      "source": [
        "The observation space is given below. The first two arrays define the min and max values of the 4 observed values, corresponding to cart position, velocity and pole angle, angular velocity."
      ]
    },
    {
      "cell_type": "code",
      "execution_count": 7,
      "metadata": {
        "colab": {
          "base_uri": "https://localhost:8080/"
        },
        "id": "DyqHr9I5cdkX",
        "outputId": "56a2face-5631-4875-c8b5-4338fe0ef746"
      },
      "outputs": [
        {
          "output_type": "stream",
          "name": "stdout",
          "text": [
            "Box([-4.8000002e+00 -3.4028235e+38 -4.1887903e-01 -3.4028235e+38], [4.8000002e+00 3.4028235e+38 4.1887903e-01 3.4028235e+38], (4,), float32)\n"
          ]
        }
      ],
      "source": [
        "print(env.observation_space)"
      ]
    },
    {
      "cell_type": "code",
      "execution_count": 8,
      "metadata": {
        "colab": {
          "base_uri": "https://localhost:8080/"
        },
        "id": "VMr6qAqxdOsm",
        "outputId": "34cd1438-9394-46cb-a5f7-4144dd4c9338"
      },
      "outputs": [
        {
          "output_type": "stream",
          "name": "stdout",
          "text": [
            "Initial observations: [ 0.01411095  0.04210765 -0.03619522  0.02100569]\n"
          ]
        }
      ],
      "source": [
        "observation = env.reset()\n",
        "print(\"Initial observations:\", observation)"
      ]
    },
    {
      "cell_type": "markdown",
      "metadata": {
        "id": "2oIzK9SzhlWN"
      },
      "source": [
        "## Task 1: Development of Q-Learning Agent\n",
        "\n",
        "Development of an RL agent. Demonstrate the correctness of the implementation by sampling a random state from the cart pole environment, inputting to the agent, and outputting a chosen action. Print the values of the state and chosen action in Jupyter notebook."
      ]
    },
    {
      "cell_type": "markdown",
      "source": [
        "## Q-Learning Implementation\n",
        "- Epsilon Decay: Epsilon is gradually reduced during training to balance exploration and exploitation. Early in training, a higher epsilon value encourages exploration, allowing the agent to gather diverse experiences. As training progresses, epsilon decreases to favor exploitation, maximizing rewards based on learned knowledge. A minimum threshold is set to prevent epsilon from reaching zero.\n",
        "- Learning Rate Decay: The learning rate starts high to facilitate larger updates towards optimal solutions. As training progresses, it decays to ensure smaller, more precise updates, preventing overshooting of the optimal values.\n",
        "\n",
        "## Selecting Optimal Action\n",
        "- The agent selects action that maximizes the Q-value from the **Q-table**.\n",
        "- It evaluates all possible actions for the current state and returns the one with the highest Q-value.\n",
        "- An **epsilon-soft policy** is applied, where the agent occasionally selects a random action based on the current epsilon value to maintain exploration.\n",
        "\n",
        "## Q-Table Update Formula\n",
        "- Q-table is updated following the standard Q-learning formula from lecture materials.\n",
        "- This update helps refine the action-value estimates over time, improving decision-making.\n",
        "\n",
        "## State Space Representation\n",
        "- The state space is discretized using bins to handle continuous variables such as cart position, velocity, pole angle, and angular velocity.\n",
        "- The **num_bins** parameter determines the granularity of this discretization, ensuring an effective mapping of continuous states to discrete values."
      ],
      "metadata": {
        "id": "r3db9z-U8m1_"
      }
    },
    {
      "cell_type": "code",
      "source": [
        "class QLAgent:\n",
        "    def __init__(self, env, num_bins=(30, 30, 30, 30), alpha=0.5, alpha_min=0.1, alpha_decay=0.99995,\n",
        "                 gamma=0.9, epsilon=0.9, epsilon_min=0.01, epsilon_decay=0.9999, num_train_episodes=30000):\n",
        "        self.env = env\n",
        "        self.num_bins = num_bins\n",
        "        self.alpha = alpha\n",
        "        self.alpha_min = alpha_min\n",
        "        self.alpha_decay = alpha_decay\n",
        "        self.gamma = gamma\n",
        "        self.epsilon = epsilon\n",
        "        self.epsilon_min = epsilon_min\n",
        "        self.epsilon_decay = epsilon_decay\n",
        "        self.num_train_episodes = num_train_episodes\n",
        "\n",
        "        self.state_bounds = list(zip(env.observation_space.low, env.observation_space.high))\n",
        "        self.state_bounds[1] = (-3, 3)  # Fix bounds for cart velocity\n",
        "        self.state_bounds[3] = (-10, 10)  # Fix bounds for pole angular velocity\n",
        "\n",
        "        self.Q = defaultdict(lambda: np.random.uniform(0, 1, env.action_space.n))\n",
        "        self.train_rewards = []\n",
        "\n",
        "    def discretize_state(self, state):\n",
        "        \"\"\" Convert continuous state into a discrete tuple \"\"\"\n",
        "        state = np.clip(state, self.env.observation_space.low, self.env.observation_space.high)\n",
        "        ratios = [(state[i] - self.state_bounds[i][0]) / (self.state_bounds[i][1] - self.state_bounds[i][0])\n",
        "                  for i in range(len(state))]\n",
        "        discrete_state = [int(ratio * (self.num_bins[i] - 1)) for i, ratio in enumerate(ratios)]\n",
        "        return tuple(discrete_state)\n",
        "\n",
        "    def epsilon_greedy_policy(self, state):\n",
        "        \"\"\" Selects action using epsilon-greedy policy \"\"\"\n",
        "        if random.uniform(0, 1) < self.epsilon:\n",
        "            return self.env.action_space.sample()  # Explore\n",
        "        else:\n",
        "            return np.argmax(self.Q[state])  # Exploit best-known action\n",
        "\n",
        "    def train(self):\n",
        "        for episode in range(self.num_train_episodes):\n",
        "            state = self.discretize_state(self.env.reset()[0]) # Reset to a randomized initial state\n",
        "            done = False\n",
        "            total_reward = 0\n",
        "            step_count = 0\n",
        "\n",
        "            if episode > 5000:\n",
        "                self.epsilon = max(self.epsilon_min, self.epsilon * 0.99999)\n",
        "\n",
        "            while not done:\n",
        "                action = self.epsilon_greedy_policy(state)\n",
        "                next_state, reward, done, info = self.env.step(action)\n",
        "                step_count += 1\n",
        "                if step_count >= 500:\n",
        "                    done = True\n",
        "\n",
        "                next_state = self.discretize_state(next_state)\n",
        "\n",
        "                # Q-learning update\n",
        "                self.Q[state][action] += self.alpha * (reward + self.gamma * np.max(self.Q[next_state]) - self.Q[state][action])\n",
        "\n",
        "                state = next_state\n",
        "                total_reward += reward\n",
        "\n",
        "            self.train_rewards.append(total_reward)\n",
        "\n",
        "            # Decay epsilon and alpha gradually\n",
        "            self.epsilon = max(self.epsilon_min, self.epsilon * self.epsilon_decay)\n",
        "            self.alpha = max(self.alpha_min, self.alpha * self.alpha_decay)\n",
        "\n",
        "            # # Print progress every 1000 episodes\n",
        "            # if episode % 1000 == 0:\n",
        "            #     print(f\"Episode {episode}: Avg Reward (last 100) = {np.mean(self.train_rewards[-100:])}\")\n",
        "\n",
        "        return self.Q\n",
        "\n",
        "    def evaluate(self, num_eval_episodes=100, record=False, video_folder=\"./video\"):\n",
        "        \"\"\"Evaluates the trained agent, optionally recording a video of the first episode.\"\"\"\n",
        "        eval_rewards = []\n",
        "        env = gym.make(\"CartPole-v1\", render_mode=\"rgb_array\")\n",
        "\n",
        "        if record:\n",
        "            env = RecordVideo(env, video_folder, episode_trigger=lambda episode_id: episode_id == 0)\n",
        "\n",
        "        for episode in range(num_eval_episodes):\n",
        "            state = self.discretize_state(env.reset()[0])\n",
        "            done = False\n",
        "            total_reward = 0\n",
        "            step_count = 0\n",
        "\n",
        "            while not done:\n",
        "                action = np.argmax(self.Q[state])  # Always exploit best action\n",
        "                next_state, reward, done, info = env.step(action)\n",
        "                step_count += 1\n",
        "                if step_count >= 500:\n",
        "                    done = True\n",
        "\n",
        "                next_state = self.discretize_state(next_state)\n",
        "                state = next_state\n",
        "                total_reward += reward\n",
        "\n",
        "            eval_rewards.append(total_reward)\n",
        "\n",
        "        env.close()\n",
        "        return eval_rewards"
      ],
      "metadata": {
        "id": "z-khFGnZ63qR"
      },
      "execution_count": 37,
      "outputs": []
    },
    {
      "cell_type": "markdown",
      "source": [
        "##Fine Tuning of Q-Learning Agent (Minimum Learning Rate)\n",
        "We will have to fine tune the minimum learning rate **alpha_min**, via observing the agent's learning progress and the rate of improvement in rewards and performance over 30000 episodes. This will let us find the optimal minimum learning rate for the agent.\n",
        "\n",
        "Below is the graphs of Q-Learning agent with minimum learning rate of 0.01."
      ],
      "metadata": {
        "id": "P6zMa_P9Ap6y"
      }
    },
    {
      "cell_type": "code",
      "source": [
        "agent = QLAgent(env, alpha_min=0.01)\n",
        "Q_table = agent.train()\n",
        "\n",
        "smoothed_rewards = condense_rewards(agent.train_rewards, group_size=100)\n",
        "\n",
        "fig, ax = plt.subplots()\n",
        "plt.plot(range(1, len(smoothed_rewards) + 1), smoothed_rewards)\n",
        "\n",
        "ax.set_ylabel('Avg Reward (per 100 episodes)')\n",
        "ax.set_xlabel('Episodes (in thousands)')\n",
        "\n",
        "plt.tight_layout()\n",
        "\n",
        "plt.show()"
      ],
      "metadata": {
        "id": "dWlPe1dPAb6X",
        "outputId": "7d211ed0-b189-4213-c1a6-e4a5589f4580",
        "colab": {
          "base_uri": "https://localhost:8080/",
          "height": 454
        }
      },
      "execution_count": 17,
      "outputs": [
        {
          "output_type": "error",
          "ename": "KeyboardInterrupt",
          "evalue": "",
          "traceback": [
            "\u001b[0;31m---------------------------------------------------------------------------\u001b[0m",
            "\u001b[0;31mKeyboardInterrupt\u001b[0m                         Traceback (most recent call last)",
            "\u001b[0;32m<ipython-input-17-960a9df680f5>\u001b[0m in \u001b[0;36m<cell line: 0>\u001b[0;34m()\u001b[0m\n\u001b[1;32m      1\u001b[0m \u001b[0magent\u001b[0m \u001b[0;34m=\u001b[0m \u001b[0mQLAgent\u001b[0m\u001b[0;34m(\u001b[0m\u001b[0menv\u001b[0m\u001b[0;34m,\u001b[0m \u001b[0malpha_min\u001b[0m\u001b[0;34m=\u001b[0m\u001b[0;36m0.01\u001b[0m\u001b[0;34m)\u001b[0m\u001b[0;34m\u001b[0m\u001b[0;34m\u001b[0m\u001b[0m\n\u001b[0;32m----> 2\u001b[0;31m \u001b[0mQ_table\u001b[0m \u001b[0;34m=\u001b[0m \u001b[0magent\u001b[0m\u001b[0;34m.\u001b[0m\u001b[0mtrain\u001b[0m\u001b[0;34m(\u001b[0m\u001b[0;34m)\u001b[0m\u001b[0;34m\u001b[0m\u001b[0;34m\u001b[0m\u001b[0m\n\u001b[0m\u001b[1;32m      3\u001b[0m \u001b[0;34m\u001b[0m\u001b[0m\n\u001b[1;32m      4\u001b[0m \u001b[0msmoothed_rewards\u001b[0m \u001b[0;34m=\u001b[0m \u001b[0mcondense_rewards\u001b[0m\u001b[0;34m(\u001b[0m\u001b[0magent\u001b[0m\u001b[0;34m.\u001b[0m\u001b[0mtrain_rewards\u001b[0m\u001b[0;34m,\u001b[0m \u001b[0mgroup_size\u001b[0m\u001b[0;34m=\u001b[0m\u001b[0;36m100\u001b[0m\u001b[0;34m)\u001b[0m\u001b[0;34m\u001b[0m\u001b[0;34m\u001b[0m\u001b[0m\n\u001b[1;32m      5\u001b[0m \u001b[0;34m\u001b[0m\u001b[0m\n",
            "\u001b[0;32m<ipython-input-15-82f741ec7595>\u001b[0m in \u001b[0;36mtrain\u001b[0;34m(self)\u001b[0m\n\u001b[1;32m     47\u001b[0m                 \u001b[0maction\u001b[0m \u001b[0;34m=\u001b[0m \u001b[0mself\u001b[0m\u001b[0;34m.\u001b[0m\u001b[0mepsilon_greedy_policy\u001b[0m\u001b[0;34m(\u001b[0m\u001b[0mstate\u001b[0m\u001b[0;34m)\u001b[0m\u001b[0;34m\u001b[0m\u001b[0;34m\u001b[0m\u001b[0m\n\u001b[1;32m     48\u001b[0m                 \u001b[0mnext_state\u001b[0m\u001b[0;34m,\u001b[0m \u001b[0mreward\u001b[0m\u001b[0;34m,\u001b[0m \u001b[0mdone\u001b[0m\u001b[0;34m,\u001b[0m \u001b[0m_\u001b[0m \u001b[0;34m=\u001b[0m \u001b[0mself\u001b[0m\u001b[0;34m.\u001b[0m\u001b[0menv\u001b[0m\u001b[0;34m.\u001b[0m\u001b[0mstep\u001b[0m\u001b[0;34m(\u001b[0m\u001b[0maction\u001b[0m\u001b[0;34m)\u001b[0m\u001b[0;34m\u001b[0m\u001b[0;34m\u001b[0m\u001b[0m\n\u001b[0;32m---> 49\u001b[0;31m                 \u001b[0mnext_state\u001b[0m \u001b[0;34m=\u001b[0m \u001b[0mself\u001b[0m\u001b[0;34m.\u001b[0m\u001b[0mdiscretize_state\u001b[0m\u001b[0;34m(\u001b[0m\u001b[0mnext_state\u001b[0m\u001b[0;34m)\u001b[0m\u001b[0;34m\u001b[0m\u001b[0;34m\u001b[0m\u001b[0m\n\u001b[0m\u001b[1;32m     50\u001b[0m \u001b[0;34m\u001b[0m\u001b[0m\n\u001b[1;32m     51\u001b[0m                 \u001b[0;31m# Q-learning update\u001b[0m\u001b[0;34m\u001b[0m\u001b[0;34m\u001b[0m\u001b[0m\n",
            "\u001b[0;32m<ipython-input-15-82f741ec7595>\u001b[0m in \u001b[0;36mdiscretize_state\u001b[0;34m(self, state)\u001b[0m\n\u001b[1;32m     22\u001b[0m     \u001b[0;32mdef\u001b[0m \u001b[0mdiscretize_state\u001b[0m\u001b[0;34m(\u001b[0m\u001b[0mself\u001b[0m\u001b[0;34m,\u001b[0m \u001b[0mstate\u001b[0m\u001b[0;34m)\u001b[0m\u001b[0;34m:\u001b[0m\u001b[0;34m\u001b[0m\u001b[0;34m\u001b[0m\u001b[0m\n\u001b[1;32m     23\u001b[0m         \u001b[0;34m\"\"\" Convert continuous state into a discrete tuple \"\"\"\u001b[0m\u001b[0;34m\u001b[0m\u001b[0;34m\u001b[0m\u001b[0m\n\u001b[0;32m---> 24\u001b[0;31m         \u001b[0mstate\u001b[0m \u001b[0;34m=\u001b[0m \u001b[0mnp\u001b[0m\u001b[0;34m.\u001b[0m\u001b[0mclip\u001b[0m\u001b[0;34m(\u001b[0m\u001b[0mstate\u001b[0m\u001b[0;34m,\u001b[0m \u001b[0mself\u001b[0m\u001b[0;34m.\u001b[0m\u001b[0menv\u001b[0m\u001b[0;34m.\u001b[0m\u001b[0mobservation_space\u001b[0m\u001b[0;34m.\u001b[0m\u001b[0mlow\u001b[0m\u001b[0;34m,\u001b[0m \u001b[0mself\u001b[0m\u001b[0;34m.\u001b[0m\u001b[0menv\u001b[0m\u001b[0;34m.\u001b[0m\u001b[0mobservation_space\u001b[0m\u001b[0;34m.\u001b[0m\u001b[0mhigh\u001b[0m\u001b[0;34m)\u001b[0m\u001b[0;34m\u001b[0m\u001b[0;34m\u001b[0m\u001b[0m\n\u001b[0m\u001b[1;32m     25\u001b[0m         ratios = [(state[i] - self.state_bounds[i][0]) / (self.state_bounds[i][1] - self.state_bounds[i][0])\n\u001b[1;32m     26\u001b[0m                   for i in range(len(state))]\n",
            "\u001b[0;32m/usr/local/lib/python3.11/dist-packages/numpy/core/fromnumeric.py\u001b[0m in \u001b[0;36mclip\u001b[0;34m(a, a_min, a_max, out, **kwargs)\u001b[0m\n\u001b[1;32m   2167\u001b[0m \u001b[0;34m\u001b[0m\u001b[0m\n\u001b[1;32m   2168\u001b[0m     \"\"\"\n\u001b[0;32m-> 2169\u001b[0;31m     \u001b[0;32mreturn\u001b[0m \u001b[0m_wrapfunc\u001b[0m\u001b[0;34m(\u001b[0m\u001b[0ma\u001b[0m\u001b[0;34m,\u001b[0m \u001b[0;34m'clip'\u001b[0m\u001b[0;34m,\u001b[0m \u001b[0ma_min\u001b[0m\u001b[0;34m,\u001b[0m \u001b[0ma_max\u001b[0m\u001b[0;34m,\u001b[0m \u001b[0mout\u001b[0m\u001b[0;34m=\u001b[0m\u001b[0mout\u001b[0m\u001b[0;34m,\u001b[0m \u001b[0;34m**\u001b[0m\u001b[0mkwargs\u001b[0m\u001b[0;34m)\u001b[0m\u001b[0;34m\u001b[0m\u001b[0;34m\u001b[0m\u001b[0m\n\u001b[0m\u001b[1;32m   2170\u001b[0m \u001b[0;34m\u001b[0m\u001b[0m\n\u001b[1;32m   2171\u001b[0m \u001b[0;34m\u001b[0m\u001b[0m\n",
            "\u001b[0;32m/usr/local/lib/python3.11/dist-packages/numpy/core/fromnumeric.py\u001b[0m in \u001b[0;36m_wrapfunc\u001b[0;34m(obj, method, *args, **kwds)\u001b[0m\n\u001b[1;32m     57\u001b[0m \u001b[0;34m\u001b[0m\u001b[0m\n\u001b[1;32m     58\u001b[0m     \u001b[0;32mtry\u001b[0m\u001b[0;34m:\u001b[0m\u001b[0;34m\u001b[0m\u001b[0;34m\u001b[0m\u001b[0m\n\u001b[0;32m---> 59\u001b[0;31m         \u001b[0;32mreturn\u001b[0m \u001b[0mbound\u001b[0m\u001b[0;34m(\u001b[0m\u001b[0;34m*\u001b[0m\u001b[0margs\u001b[0m\u001b[0;34m,\u001b[0m \u001b[0;34m**\u001b[0m\u001b[0mkwds\u001b[0m\u001b[0;34m)\u001b[0m\u001b[0;34m\u001b[0m\u001b[0;34m\u001b[0m\u001b[0m\n\u001b[0m\u001b[1;32m     60\u001b[0m     \u001b[0;32mexcept\u001b[0m \u001b[0mTypeError\u001b[0m\u001b[0;34m:\u001b[0m\u001b[0;34m\u001b[0m\u001b[0;34m\u001b[0m\u001b[0m\n\u001b[1;32m     61\u001b[0m         \u001b[0;31m# A TypeError occurs if the object does have such a method in its\u001b[0m\u001b[0;34m\u001b[0m\u001b[0;34m\u001b[0m\u001b[0m\n",
            "\u001b[0;32m/usr/local/lib/python3.11/dist-packages/numpy/core/_methods.py\u001b[0m in \u001b[0;36m_clip\u001b[0;34m(a, min, max, out, **kwargs)\u001b[0m\n\u001b[1;32m     97\u001b[0m         \u001b[0;32mreturn\u001b[0m \u001b[0mum\u001b[0m\u001b[0;34m.\u001b[0m\u001b[0mmaximum\u001b[0m\u001b[0;34m(\u001b[0m\u001b[0ma\u001b[0m\u001b[0;34m,\u001b[0m \u001b[0mmin\u001b[0m\u001b[0;34m,\u001b[0m \u001b[0mout\u001b[0m\u001b[0;34m=\u001b[0m\u001b[0mout\u001b[0m\u001b[0;34m,\u001b[0m \u001b[0;34m**\u001b[0m\u001b[0mkwargs\u001b[0m\u001b[0;34m)\u001b[0m\u001b[0;34m\u001b[0m\u001b[0;34m\u001b[0m\u001b[0m\n\u001b[1;32m     98\u001b[0m     \u001b[0;32melse\u001b[0m\u001b[0;34m:\u001b[0m\u001b[0;34m\u001b[0m\u001b[0;34m\u001b[0m\u001b[0m\n\u001b[0;32m---> 99\u001b[0;31m         \u001b[0;32mreturn\u001b[0m \u001b[0mum\u001b[0m\u001b[0;34m.\u001b[0m\u001b[0mclip\u001b[0m\u001b[0;34m(\u001b[0m\u001b[0ma\u001b[0m\u001b[0;34m,\u001b[0m \u001b[0mmin\u001b[0m\u001b[0;34m,\u001b[0m \u001b[0mmax\u001b[0m\u001b[0;34m,\u001b[0m \u001b[0mout\u001b[0m\u001b[0;34m=\u001b[0m\u001b[0mout\u001b[0m\u001b[0;34m,\u001b[0m \u001b[0;34m**\u001b[0m\u001b[0mkwargs\u001b[0m\u001b[0;34m)\u001b[0m\u001b[0;34m\u001b[0m\u001b[0;34m\u001b[0m\u001b[0m\n\u001b[0m\u001b[1;32m    100\u001b[0m \u001b[0;34m\u001b[0m\u001b[0m\n\u001b[1;32m    101\u001b[0m \u001b[0;32mdef\u001b[0m \u001b[0m_mean\u001b[0m\u001b[0;34m(\u001b[0m\u001b[0ma\u001b[0m\u001b[0;34m,\u001b[0m \u001b[0maxis\u001b[0m\u001b[0;34m=\u001b[0m\u001b[0;32mNone\u001b[0m\u001b[0;34m,\u001b[0m \u001b[0mdtype\u001b[0m\u001b[0;34m=\u001b[0m\u001b[0;32mNone\u001b[0m\u001b[0;34m,\u001b[0m \u001b[0mout\u001b[0m\u001b[0;34m=\u001b[0m\u001b[0;32mNone\u001b[0m\u001b[0;34m,\u001b[0m \u001b[0mkeepdims\u001b[0m\u001b[0;34m=\u001b[0m\u001b[0;32mFalse\u001b[0m\u001b[0;34m,\u001b[0m \u001b[0;34m*\u001b[0m\u001b[0;34m,\u001b[0m \u001b[0mwhere\u001b[0m\u001b[0;34m=\u001b[0m\u001b[0;32mTrue\u001b[0m\u001b[0;34m)\u001b[0m\u001b[0;34m:\u001b[0m\u001b[0;34m\u001b[0m\u001b[0;34m\u001b[0m\u001b[0m\n",
            "\u001b[0;31mKeyboardInterrupt\u001b[0m: "
          ]
        }
      ]
    },
    {
      "cell_type": "markdown",
      "source": [
        "From the above, we observed that the agent performs poorly as the rewards fluctuate alot and reward did not exceed 200 towards the end."
      ],
      "metadata": {
        "id": "ipZHEkjJCoAb"
      }
    },
    {
      "cell_type": "markdown",
      "source": [
        "We will now set to a higher minimum learning rate, 0.05."
      ],
      "metadata": {
        "id": "ndW_TX1DC2qy"
      }
    },
    {
      "cell_type": "code",
      "source": [
        "agent = QLAgent(env, alpha_min=0.05)\n",
        "Q_table = agent.train()\n",
        "\n",
        "smoothed_rewards = condense_rewards(agent.train_rewards, group_size=100)\n",
        "\n",
        "fig, ax = plt.subplots()\n",
        "plt.plot(range(1, len(smoothed_rewards) + 1), smoothed_rewards)\n",
        "\n",
        "ax.set_ylabel('Avg Reward (per 100 episodes)')\n",
        "ax.set_xlabel('Episodes (in thousands)')\n",
        "\n",
        "plt.tight_layout()\n",
        "\n",
        "plt.show()"
      ],
      "metadata": {
        "id": "it-xl6IyC-_4"
      },
      "execution_count": null,
      "outputs": []
    },
    {
      "cell_type": "markdown",
      "source": [
        "From the above, we observed that the agent performs better as compared to minimum learning rate of 0.01 but the rewards for each episode did not exceed 200."
      ],
      "metadata": {
        "id": "WuaWn-l2C-yd"
      }
    },
    {
      "cell_type": "markdown",
      "source": [
        "We will now try increasing to a higher minimum learning rate, 0.1."
      ],
      "metadata": {
        "id": "p4N3pTopDUGb"
      }
    },
    {
      "cell_type": "code",
      "source": [
        "agent = QLAgent(env, alpha_min=0.1)\n",
        "Q_table = agent.train()\n",
        "\n",
        "smoothed_rewards = condense_rewards(agent.train_rewards, group_size=100)\n",
        "\n",
        "fig, ax = plt.subplots()\n",
        "plt.plot(range(1, len(smoothed_rewards) + 1), smoothed_rewards)\n",
        "\n",
        "ax.set_ylabel('Avg Reward (per 100 episodes)')\n",
        "ax.set_xlabel('Episodes (in thousands)')\n",
        "\n",
        "plt.tight_layout()\n",
        "\n",
        "plt.show()"
      ],
      "metadata": {
        "id": "IHPn6-6FDS_r"
      },
      "execution_count": null,
      "outputs": []
    },
    {
      "cell_type": "markdown",
      "source": [
        "From the above, we observed that the agent performs better than the previous 2 minimum learning rate and the reward values projected are close to 500. We can stop testing since we are finding for the minimum learning rate, this can also avoid agent from adapting too slowly and memorizing experiences instead of generalizing them.\n",
        "\n",
        "We will fix the minimum learning rate to **0.1** and fine tune the epsilon on the next section"
      ],
      "metadata": {
        "id": "iN3T94FPE12U"
      }
    },
    {
      "cell_type": "markdown",
      "source": [
        "##Fine Tuning of Q-Learning Agent (Epsilon)\n",
        "We will have to fine tune **epsilon**. Similar to minimum learning rate, we will observe the agent's learning progress and the rate of improvement in rewards and performance over 30000 episodes. This will let us find the optimal minimum learning rate for the agent.\n",
        "\n",
        "Below is the graphs of Q-Learning agent with epsilon of 0.4."
      ],
      "metadata": {
        "id": "ONhN8Mqm2B3s"
      }
    },
    {
      "cell_type": "code",
      "source": [
        "agent = QLAgent(env, epsilon=0.4)\n",
        "Q_table = agent.train()\n",
        "\n",
        "smoothed_rewards = condense_rewards(agent.train_rewards, group_size=100)\n",
        "\n",
        "fig, ax = plt.subplots()\n",
        "plt.plot(range(1, len(smoothed_rewards) + 1), smoothed_rewards)\n",
        "\n",
        "ax.set_ylabel('Avg Reward (per 100 episodes)')\n",
        "ax.set_xlabel('Episodes (in thousands)')\n",
        "\n",
        "plt.tight_layout()\n",
        "\n",
        "plt.show()"
      ],
      "metadata": {
        "id": "WG52UTyD2lT1"
      },
      "execution_count": null,
      "outputs": []
    },
    {
      "cell_type": "code",
      "source": [
        "agent = QLAgent(env, epsilon=0.6)\n",
        "Q_table = agent.train()\n",
        "\n",
        "smoothed_rewards = condense_rewards(agent.train_rewards, group_size=100)\n",
        "\n",
        "fig, ax = plt.subplots()\n",
        "plt.plot(range(1, len(smoothed_rewards) + 1), smoothed_rewards)\n",
        "\n",
        "ax.set_ylabel('Avg Reward (per 100 episodes)')\n",
        "ax.set_xlabel('Episodes (in thousands)')\n",
        "\n",
        "plt.tight_layout()\n",
        "\n",
        "plt.show()"
      ],
      "metadata": {
        "id": "99zQfkbN2ppu"
      },
      "execution_count": null,
      "outputs": []
    },
    {
      "cell_type": "code",
      "source": [
        "agent = QLAgent(env, epsilon=0.9)\n",
        "Q_table = agent.train()\n",
        "\n",
        "smoothed_rewards = condense_rewards(agent.train_rewards, group_size=100)\n",
        "\n",
        "fig, ax = plt.subplots()\n",
        "plt.plot(range(1, len(smoothed_rewards) + 1), smoothed_rewards)\n",
        "\n",
        "ax.set_ylabel('Avg Reward (per 100 episodes)')\n",
        "ax.set_xlabel('Episodes (in thousands)')\n",
        "\n",
        "plt.tight_layout()\n",
        "\n",
        "plt.show()"
      ],
      "metadata": {
        "id": "Ogc02Xn32yCG"
      },
      "execution_count": null,
      "outputs": []
    },
    {
      "cell_type": "code",
      "source": [
        "agent = QLAgent(env, epsilon=1.1)\n",
        "Q_table = agent.train()\n",
        "\n",
        "smoothed_rewards = condense_rewards(agent.train_rewards, group_size=100)\n",
        "\n",
        "fig, ax = plt.subplots()\n",
        "plt.plot(range(1, len(smoothed_rewards) + 1), smoothed_rewards)\n",
        "\n",
        "ax.set_ylabel('Avg Reward (per 100 episodes)')\n",
        "ax.set_xlabel('Episodes (in thousands)')\n",
        "\n",
        "plt.tight_layout()\n",
        "\n",
        "plt.show()"
      ],
      "metadata": {
        "id": "b-jC5_uN2vZ8"
      },
      "execution_count": null,
      "outputs": []
    },
    {
      "cell_type": "markdown",
      "source": [
        "From the above, we observed that the agent performs best when epsilon is <>>>><<< and the reward values are generally higher than the rest towards the end."
      ],
      "metadata": {
        "id": "1Wy2cLNv2zxf"
      }
    },
    {
      "cell_type": "markdown",
      "metadata": {
        "id": "-XtIQ0Rti1gm"
      },
      "source": [
        "## Task 2: Demonstrate the effectiveness of the RL agent"
      ]
    },
    {
      "cell_type": "markdown",
      "metadata": {
        "id": "djBEShf0kGI4"
      },
      "source": [
        "Demonstrate the effectiveness of the RL agent. Run for 100 episodes (reset the environment at the beginning of each episode) and plot the cumulative reward against all episodes in Jupyter. Print the average reward over the 100 episodes. The average reward should be larger than 195."
      ]
    },
    {
      "cell_type": "code",
      "source": [
        "agent = QLAgent(env, epsilon=0.9, alpha_min=0.1)\n",
        "Q_table = agent.train()\n",
        "\n",
        "eval_rewards = agent.evaluate(record=True)"
      ],
      "metadata": {
        "colab": {
          "base_uri": "https://localhost:8080/"
        },
        "id": "neiEHwRPS4EL",
        "outputId": "ba6c0ed3-a538-4cb3-8d4f-97b62e354ad4"
      },
      "execution_count": 38,
      "outputs": [
        {
          "output_type": "stream",
          "name": "stderr",
          "text": [
            "/usr/local/lib/python3.11/dist-packages/gym/utils/passive_env_checker.py:241: DeprecationWarning: `np.bool8` is a deprecated alias for `np.bool_`.  (Deprecated NumPy 1.24)\n",
            "  if not isinstance(terminated, (bool, np.bool8)):\n"
          ]
        }
      ]
    },
    {
      "cell_type": "code",
      "execution_count": 29,
      "metadata": {
        "id": "3oIQ_1Bw-hf8",
        "outputId": "4ea13261-f0c8-4a9e-9590-0dc6bc144445",
        "colab": {
          "base_uri": "https://localhost:8080/",
          "height": 472
        }
      },
      "outputs": [
        {
          "output_type": "display_data",
          "data": {
            "text/plain": [
              "<Figure size 640x480 with 1 Axes>"
            ],
            "image/png": "[encoded data removed]"
          },
          "metadata": {}
        }
      ],
      "source": [
        "# Plot the cumulative rewards\n",
        "plt.plot(eval_rewards)\n",
        "plt.title('Cumulative reward for each episode')\n",
        "plt.ylabel('Cumulative reward')\n",
        "plt.xlabel('Episode')\n",
        "plt.show()"
      ]
    },
    {
      "cell_type": "markdown",
      "metadata": {
        "id": "XndSYH7wlvn7"
      },
      "source": [
        "Print the average reward over the 100 episodes."
      ]
    },
    {
      "cell_type": "code",
      "execution_count": 39,
      "metadata": {
        "colab": {
          "base_uri": "https://localhost:8080/"
        },
        "id": "pOiOp9OYlo5Y",
        "outputId": "b057c60b-8824-4af2-c255-89e1bb4cfaaa"
      },
      "outputs": [
        {
          "output_type": "stream",
          "name": "stdout",
          "text": [
            "Average cumulative reward: 165.76\n",
            "Is my agent good enough? False\n"
          ]
        }
      ],
      "source": [
        "print(\"Average cumulative reward:\", np.mean(eval_rewards))\n",
        "print(\"Is my agent good enough?\", np.mean(eval_rewards) > 195)"
      ]
    },
    {
      "cell_type": "markdown",
      "metadata": {
        "id": "Yg0DCT38lFA6"
      },
      "source": [
        "## Task 3: Render one episode played by the agent"
      ]
    },
    {
      "cell_type": "markdown",
      "metadata": {
        "id": "vx1awMr9lc_w"
      },
      "source": [
        "Plug your agent to the code below to obtain rendered result."
      ]
    },
    {
      "cell_type": "code",
      "execution_count": 40,
      "metadata": {
        "id": "mhTnOKPZ-hf9",
        "outputId": "298355f4-7eaf-4816-dca6-c1879152218f",
        "colab": {
          "base_uri": "https://localhost:8080/",
          "height": 421
        }
      },
      "outputs": [
        {
          "output_type": "display_data",
          "data": {
            "text/plain": [
              "<IPython.core.display.HTML object>"
            ],
            "text/html": [
              "<video alt=\"test\" autoplay\n",
              "                loop controls style=\"height: 400px;\">\n",
              "                <source src=\"data:video/mp4;base64,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\" type=\"video/mp4\" />\n",
              "             </video>"
            ]
          },
          "metadata": {}
        }
      ],
      "source": [
        "show_video()"
      ]
    },
    {
      "cell_type": "code",
      "execution_count": null,
      "metadata": {
        "id": "vB2jPVQ4-hf9"
      },
      "outputs": [],
      "source": []
    }
  ],
  "metadata": {
    "colab": {
      "provenance": []
    },
    "kernelspec": {
      "display_name": "Python 3 (ipykernel)",
      "language": "python",
      "name": "python3"
    },
    "language_info": {
      "codemirror_mode": {
        "name": "ipython",
        "version": 3
      },
      "file_extension": ".py",
      "mimetype": "text/x-python",
      "name": "python",
      "nbconvert_exporter": "python",
      "pygments_lexer": "ipython3",
      "version": "3.12.7"
    }
  },
  "nbformat": 4,
  "nbformat_minor": 0
}