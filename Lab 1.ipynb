{
  "cells": [
    {
      "cell_type": "markdown",
      "metadata": {
        "id": "view-in-github",
        "colab_type": "text"
      },
      "source": [
        "<a href=\"https://colab.research.google.com/github/TayYuanGeng/SC3000/blob/main/Lab%201.ipynb\" target=\"_parent\"><img src=\"https://colab.research.google.com/assets/colab-badge.svg\" alt=\"Open In Colab\"/></a>"
      ]
    },
    {
      "cell_type": "markdown",
      "source": [
        "<a href=\"\" target=\"_parent\"><img src=\"https://colab.research.google.com/assets/colab-badge.svg\" alt=\"Open In Colab\"/></a>"
      ],
      "metadata": {
        "id": "FpMFy9bw-mHL"
      }
    },
    {
      "cell_type": "markdown",
      "metadata": {
        "id": "ZauhjPSfX7pI"
      },
      "source": [
        "# Lab Assignment 1"
      ]
    },
    {
      "cell_type": "markdown",
      "metadata": {
        "id": "UBiYOoesYMvr"
      },
      "source": [
        "## Installing dependencies:"
      ]
    },
    {
      "cell_type": "code",
      "execution_count": null,
      "metadata": {
        "colab": {
          "base_uri": "https://localhost:8080/"
        },
        "id": "PbgnVwZmX5uW",
        "outputId": "7dcfe5ac-b419-4d5d-8305-1ba3c1240df3"
      },
      "outputs": [
        {
          "name": "stdout",
          "output_type": "stream",
          "text": [
            "Requirement already satisfied: gymnasium[classic_control] in /opt/anaconda3/lib/python3.12/site-packages (1.0.0)\n",
            "Requirement already satisfied: numpy>=1.21.0 in /opt/anaconda3/lib/python3.12/site-packages (from gymnasium[classic_control]) (1.26.4)\n",
            "Requirement already satisfied: cloudpickle>=1.2.0 in /opt/anaconda3/lib/python3.12/site-packages (from gymnasium[classic_control]) (3.0.0)\n",
            "Requirement already satisfied: typing-extensions>=4.3.0 in /opt/anaconda3/lib/python3.12/site-packages (from gymnasium[classic_control]) (4.11.0)\n",
            "Requirement already satisfied: farama-notifications>=0.0.1 in /opt/anaconda3/lib/python3.12/site-packages (from gymnasium[classic_control]) (0.0.4)\n",
            "Requirement already satisfied: pygame>=2.1.3 in /opt/anaconda3/lib/python3.12/site-packages (from gymnasium[classic_control]) (2.6.1)\n",
            "Requirement already satisfied: setuptools in /opt/anaconda3/lib/python3.12/site-packages (75.8.0)\n"
          ]
        }
      ],
      "source": [
        "!apt-get install -y xvfb python-opengl > /dev/null 2>&1\n",
        "!pip install gym pyvirtualdisplay > /dev/null 2>&1\n",
        "!pip install gym pyvirtualdisplay > /dev/null 2>&1\n",
        "!apt-get install -y xvfb python-opengl ffmpeg > /dev/null 2>&1\n",
        "!pip install 'gymnasium[classic_control]'\n",
        "!apt-get update > /dev/null 2>&1\n",
        "!apt-get install cmake > /dev/null 2>&1\n",
        "!pip install --upgrade setuptools 2>&1\n",
        "!pip install ez_setup > /dev/null 2>&1\n",
        "!pip install moviepy > /dev/null 2>&1"
      ]
    },
    {
      "cell_type": "markdown",
      "metadata": {
        "id": "RwKbYeTgbaTA"
      },
      "source": [
        "## Importing dependencies and define helper functions"
      ]
    },
    {
      "cell_type": "code",
      "execution_count": null,
      "metadata": {
        "id": "j6KpgCLGYWmj"
      },
      "outputs": [],
      "source": [
        "import gym\n",
        "from gym import logger as gymlogger\n",
        "from gym.wrappers import RecordVideo\n",
        "gymlogger.set_level(40) #error only\n",
        "import tensorflow as tf\n",
        "import numpy as np\n",
        "import random\n",
        "import matplotlib\n",
        "import matplotlib.pyplot as plt\n",
        "%matplotlib inline\n",
        "import math\n",
        "import glob\n",
        "import io\n",
        "import base64\n",
        "from IPython.display import HTML\n",
        "from IPython import display as ipythondisplay\n",
        "\n",
        "def show_video():\n",
        "  mp4list = glob.glob('video/*.mp4')\n",
        "  if len(mp4list) > 0:\n",
        "    mp4 = mp4list[0]\n",
        "    video = io.open(mp4, 'r+b').read()\n",
        "    encoded = base64.b64encode(video)\n",
        "    ipythondisplay.display(HTML(data='''<video alt=\"test\" autoplay\n",
        "                loop controls style=\"height: 400px;\">\n",
        "                <source src=\"data:video/mp4;base64,{0}\" type=\"video/mp4\" />\n",
        "             </video>'''.format(encoded.decode('ascii'))))\n",
        "  else:\n",
        "    print(\"Could not find video\")"
      ]
    },
    {
      "cell_type": "markdown",
      "metadata": {
        "id": "ehbqP9CXbmo7"
      },
      "source": [
        "## Tutorial: Loading CartPole environment"
      ]
    },
    {
      "cell_type": "code",
      "execution_count": null,
      "metadata": {
        "id": "Go12dH4qbwBy"
      },
      "outputs": [],
      "source": [
        "env = gym.make(\"CartPole-v1\")"
      ]
    },
    {
      "cell_type": "markdown",
      "metadata": {
        "id": "9XZ9g3xrcAXE"
      },
      "source": [
        "We can check the action and observation space of this environment. Discrete(2) means that there are two valid discrete actions: 0 & 1."
      ]
    },
    {
      "cell_type": "code",
      "execution_count": null,
      "metadata": {
        "colab": {
          "base_uri": "https://localhost:8080/"
        },
        "id": "ytxvVmLdcRyw",
        "outputId": "1ce07099-492b-4126-a792-8ff12d79c2db"
      },
      "outputs": [
        {
          "name": "stdout",
          "output_type": "stream",
          "text": [
            "Discrete(2)\n"
          ]
        }
      ],
      "source": [
        "print(env.action_space)"
      ]
    },
    {
      "cell_type": "markdown",
      "metadata": {
        "id": "pVXGWi_Ncfg-"
      },
      "source": [
        "The observation space is given below. The first two arrays define the min and max values of the 4 observed values, corresponding to cart position, velocity and pole angle, angular velocity."
      ]
    },
    {
      "cell_type": "code",
      "execution_count": null,
      "metadata": {
        "colab": {
          "base_uri": "https://localhost:8080/"
        },
        "id": "DyqHr9I5cdkX",
        "outputId": "369a0733-e7c0-4bca-b427-5e1c603ff074"
      },
      "outputs": [
        {
          "name": "stdout",
          "output_type": "stream",
          "text": [
            "Box([-4.8000002e+00 -3.4028235e+38 -4.1887903e-01 -3.4028235e+38], [4.8000002e+00 3.4028235e+38 4.1887903e-01 3.4028235e+38], (4,), float32)\n"
          ]
        }
      ],
      "source": [
        "print(env.observation_space)"
      ]
    },
    {
      "cell_type": "markdown",
      "metadata": {
        "id": "HFOdaU2Gdyg0"
      },
      "source": [
        "We call each round of the pole-balancing game an \"episode\". At the start of each episode, make sure the environment is reset, which chooses a random initial state, e.g., pole slightly tilted to the right. This initialization can be achieved by the code below, which returns the observation of the initial state."
      ]
    },
    {
      "cell_type": "code",
      "execution_count": null,
      "metadata": {
        "colab": {
          "base_uri": "https://localhost:8080/"
        },
        "id": "VMr6qAqxdOsm",
        "outputId": "0e35ee3b-15d0-4e1f-926c-194a5a43f830"
      },
      "outputs": [
        {
          "name": "stdout",
          "output_type": "stream",
          "text": [
            "Initial observations: (array([ 0.045332  , -0.0266373 , -0.03965751,  0.0017187 ], dtype=float32), {})\n"
          ]
        }
      ],
      "source": [
        "observation = env.reset()\n",
        "print(\"Initial observations:\", observation)"
      ]
    },
    {
      "cell_type": "markdown",
      "metadata": {
        "id": "qnG2QdfbeZrI"
      },
      "source": [
        "For the CartPole environment, there are two possible actions: 0 for pushing to the left and 1 for pushing to the right. For example, we can push the cart to the left using code below, which returns the new observation, the current reward, an indicator of whether the game ends, and some additional information (not used in this project). For CartPole, the game ends when the pole is significantly tilted or you manage to balance the pole for 500 steps. You get exactly 1 reward for each step before the game ends (i.e., max cumulative reward is 500)."
      ]
    },
    {
      "cell_type": "code",
      "execution_count": null,
      "metadata": {
        "colab": {
          "base_uri": "https://localhost:8080/"
        },
        "id": "MmfMDvyYdWGk",
        "outputId": "fa12ffd8-6707-4cbc-fb86-aef8484d5d17"
      },
      "outputs": [
        {
          "name": "stdout",
          "output_type": "stream",
          "text": [
            "(array([ 0.04479925, -0.22116873, -0.03962314,  0.28163016], dtype=float32), 1.0, False, False, {})\n",
            "New observations after choosing action 0: [ 0.04037588 -0.41570374 -0.03399053  0.56155753]\n",
            "Reward for this step: 1.0\n",
            "Is this round done? False\n"
          ]
        }
      ],
      "source": [
        "print(env.step(0))\n",
        "observation, reward, done, _, info = env.step(0)\n",
        "print(\"New observations after choosing action 0:\", observation)\n",
        "print(\"Reward for this step:\", reward)\n",
        "print(\"Is this round done?\", done)"
      ]
    },
    {
      "cell_type": "markdown",
      "metadata": {
        "id": "tj0zCh59fhBb"
      },
      "source": [
        "Now we can play a full round of the game using a naive strategy (always choosing action 0), and show the cumulative reward in the round. Note that reward returned by env.step(*) corresponds to the reward for current step. So we have to accumulate the reward for each step. Clearly, the naive strategy performs poorly by surviving only a dozen of steps."
      ]
    },
    {
      "cell_type": "code",
      "execution_count": null,
      "metadata": {
        "colab": {
          "base_uri": "https://localhost:8080/"
        },
        "id": "AVucQVRwf6Jm",
        "outputId": "72f0b7d5-7cb5-4e37-da3d-997c1bfb4641"
      },
      "outputs": [
        {
          "name": "stdout",
          "output_type": "stream",
          "text": [
            "Cumulative reward for this round: 8.0\n"
          ]
        }
      ],
      "source": [
        "observation = env.reset()\n",
        "cumulative_reward = 0\n",
        "done = False\n",
        "while not done:\n",
        "    observation, reward, done, _, info = env.step(0)\n",
        "    cumulative_reward += reward\n",
        "print(\"Cumulative reward for this round:\", cumulative_reward)"
      ]
    },
    {
      "cell_type": "markdown",
      "metadata": {
        "id": "2oIzK9SzhlWN"
      },
      "source": [
        "## Task 1: Development of an RL agent"
      ]
    },
    {
      "cell_type": "markdown",
      "metadata": {
        "id": "Cc6_e5c_huiq"
      },
      "source": [
        "An example of a naive agent is given below, which randomly chooses an action regardless of the observation:"
      ]
    },
    {
      "cell_type": "code",
      "execution_count": null,
      "metadata": {
        "id": "Hk-M4QEfh6l5"
      },
      "outputs": [],
      "source": [
        "# def rand_policy_agent(observation):\n",
        "#     return random.randint(0, 1)"
      ]
    },
    {
      "cell_type": "code",
      "execution_count": null,
      "metadata": {
        "id": "SdeDQEfi-hf8"
      },
      "outputs": [],
      "source": [
        "from collections import defaultdict\n",
        "\n",
        "# Initialize Q-table\n",
        "Q = defaultdict(lambda: np.zeros(env.action_space.n))\n",
        "alpha = 0.1  # Learning rate\n",
        "gamma = 0.99  # Discount factor\n",
        "epsilon = 0.1  # Exploration-exploitation trade-off\n",
        "\n",
        "def epsilon_greedy_policy(state):\n",
        "    if random.uniform(0, 1) < epsilon:\n",
        "        return env.action_space.sample()  # Explore\n",
        "    else:\n",
        "        return np.argmax(Q[state])  # Exploit\n",
        "\n",
        "# Store cumulative reward for the episode\n",
        "episode_rewards = []\n",
        "\n",
        "# Run 1 episode\n",
        "state, _ = env.reset()\n",
        "done = False\n",
        "total_reward = 0\n",
        "\n",
        "while not done:\n",
        "    # Select action using epsilon-greedy policy\n",
        "    action = epsilon_greedy_policy(state)\n",
        "\n",
        "    # Take action in the environment\n",
        "    next_state, reward, done, _, _ = env.step(action)\n",
        "\n",
        "    # Accumulate the reward\n",
        "    total_reward += reward\n",
        "\n",
        "    # Q-learning update rule\n",
        "    Q[state][action] += alpha * (reward + gamma * np.max(Q[next_state]) - Q[state][action])\n",
        "    state = next_state\n",
        "\n",
        "    # Append total reward at each step for visualization\n",
        "    episode_rewards.append(total_reward)"
      ]
    },
    {
      "cell_type": "markdown",
      "metadata": {
        "id": "RAi7KKwNiegR"
      },
      "source": [
        "For Task 1, we can show the observation and chosen action below:"
      ]
    },
    {
      "cell_type": "code",
      "execution_count": null,
      "metadata": {
        "id": "ae2ia-vUiNKJ"
      },
      "outputs": [],
      "source": [
        "# observation = env.reset()\n",
        "# action = rand_policy_agent(observation)\n",
        "# print(\"Observation:\", observation)\n",
        "# print(\"Chosen action:\", action)"
      ]
    },
    {
      "cell_type": "markdown",
      "metadata": {
        "id": "-XtIQ0Rti1gm"
      },
      "source": [
        "## Task 2: Demonstrate the effectiveness of the RL agent"
      ]
    },
    {
      "cell_type": "markdown",
      "metadata": {
        "id": "djBEShf0kGI4"
      },
      "source": [
        "For this task, use the agent developed in Task 1 to play the game for 100 episodes (refer to tutorial for how to play a round), record the cumulative reward for each round, and plot the reward for each round. A sample plotting code is given below. Note that you must include code to play for 100 episodes and use the code to obtain round_results for plotting. DO NOT record the round results in advance and paste the results to the notebook."
      ]
    },
    {
      "cell_type": "code",
      "execution_count": null,
      "metadata": {
        "id": "3oIQ_1Bw-hf8",
        "outputId": "ef908a3e-d493-449b-e390-ae4e428fd9f3"
      },
      "outputs": [
        {
          "data": {
            "image/png": "[encoded data removed]",
            "text/plain": [
              "<Figure size 640x480 with 1 Axes>"
            ]
          },
          "metadata": {},
          "output_type": "display_data"
        }
      ],
      "source": [
        "# Plot the cumulative rewards\n",
        "plt.plot(episode_rewards)\n",
        "plt.title('Cumulative reward for each episode')\n",
        "plt.ylabel('Cumulative reward')\n",
        "plt.xlabel('Episode')\n",
        "plt.show()"
      ]
    },
    {
      "cell_type": "code",
      "execution_count": null,
      "metadata": {
        "colab": {
          "base_uri": "https://localhost:8080/",
          "height": 295
        },
        "id": "RZrCKywQi6CE",
        "outputId": "e304ecc5-14b6-4cf1-831b-dcb42eb46351"
      },
      "outputs": [
        {
          "data": {
            "image/png": "[encoded data removed]",
            "text/plain": [
              "<Figure size 640x480 with 1 Axes>"
            ]
          },
          "metadata": {},
          "output_type": "display_data"
        }
      ],
      "source": [
        "# episode_results = np.random.randint(150, 250, size=100)\n",
        "# plt.plot(episode_results)\n",
        "# plt.title('Cumulative reward for each episode')\n",
        "# plt.ylabel('Cumulative reward')\n",
        "# plt.xlabel('episode')\n",
        "# plt.show()"
      ]
    },
    {
      "cell_type": "markdown",
      "metadata": {
        "id": "XndSYH7wlvn7"
      },
      "source": [
        "Print the average reward over the 100 episodes."
      ]
    },
    {
      "cell_type": "code",
      "execution_count": null,
      "metadata": {
        "colab": {
          "base_uri": "https://localhost:8080/"
        },
        "id": "pOiOp9OYlo5Y",
        "outputId": "7a02ba7b-ff17-41f2-aa7f-eb50d49a83fd"
      },
      "outputs": [
        {
          "name": "stdout",
          "output_type": "stream",
          "text": [
            "Average cumulative reward: 200.27\n",
            "Is my agent good enough? True\n"
          ]
        }
      ],
      "source": [
        "print(\"Average cumulative reward:\", episode_results.mean())\n",
        "print(\"Is my agent good enough?\", episode_results.mean() > 195)"
      ]
    },
    {
      "cell_type": "markdown",
      "metadata": {
        "id": "Yg0DCT38lFA6"
      },
      "source": [
        "## Task 3: Render one episode played by the agent"
      ]
    },
    {
      "cell_type": "markdown",
      "metadata": {
        "id": "vx1awMr9lc_w"
      },
      "source": [
        "Plug your agent to the code below to obtain rendered result."
      ]
    },
    {
      "cell_type": "code",
      "execution_count": null,
      "metadata": {
        "id": "mhTnOKPZ-hf9",
        "outputId": "50d789e5-fb08-4f4f-992e-ee729c49a042"
      },
      "outputs": [
        {
          "name": "stdout",
          "output_type": "stream",
          "text": [
            "MoviePy - Building video /Users/yuangeng/Downloads/Y2S2/SC3000 Artificial Intelligence/Lab 1/video/rl-video-episode-0.mp4.\n",
            "MoviePy - Writing video /Users/yuangeng/Downloads/Y2S2/SC3000 Artificial Intelligence/Lab 1/video/rl-video-episode-0.mp4\n",
            "\n"
          ]
        },
        {
          "name": "stderr",
          "output_type": "stream",
          "text": [
            "                                                                                "
          ]
        },
        {
          "name": "stdout",
          "output_type": "stream",
          "text": [
            "MoviePy - Done !\n",
            "MoviePy - video ready /Users/yuangeng/Downloads/Y2S2/SC3000 Artificial Intelligence/Lab 1/video/rl-video-episode-0.mp4\n"
          ]
        },
        {
          "name": "stderr",
          "output_type": "stream",
          "text": [
            "\r"
          ]
        },
        {
          "data": {
            "text/html": [
              "<video controls  >\n",
              " <source src=\"data:video/mp4;base64,AAAAIGZ0eXBpc29tAAACAGlzb21pc28yYXZjMW1wNDEAAAAIZnJlZQAADn1tZGF0AAACrwYF//+r3EXpvebZSLeWLNgg2SPu73gyNjQgLSBjb3JlIDE2NCByMzE5MCA3ZWQ3NTNiIC0gSC4yNjQvTVBFRy00IEFWQyBjb2RlYyAtIENvcHlsZWZ0IDIwMDMtMjAyNCAtIGh0dHA6Ly93d3cudmlkZW9sYW4ub3JnL3gyNjQuaHRtbCAtIG9wdGlvbnM6IGNhYmFjPTEgcmVmPTMgZGVibG9jaz0xOjA6MCBhbmFseXNlPTB4MzoweDExMyBtZT1oZXggc3VibWU9NyBwc3k9MSBwc3lfcmQ9MS4wMDowLjAwIG1peGVkX3JlZj0xIG1lX3JhbmdlPTE2IGNocm9tYV9tZT0xIHRyZWxsaXM9MSA4eDhkY3Q9MSBjcW09MCBkZWFkem9uZT0yMSwxMSBmYXN0X3Bza2lwPTEgY2hyb21hX3FwX29mZnNldD0tMiB0aHJlYWRzPTEyIGxvb2thaGVhZF90aHJlYWRzPTIgc2xpY2VkX3RocmVhZHM9MCBucj0wIGRlY2ltYXRlPTEgaW50ZXJsYWNlZD0wIGJsdXJheV9jb21wYXQ9MCBjb25zdHJhaW5lZF9pbnRyYT0wIGJmcmFtZXM9MyBiX3B5cmFtaWQ9MiBiX2FkYXB0PTEgYl9iaWFzPTAgZGlyZWN0PTEgd2VpZ2h0Yj0xIG9wZW5fZ29wPTAgd2VpZ2h0cD0yIGtleWludD0yNTAga2V5aW50X21pbj0yNSBzY2VuZWN1dD00MCBpbnRyYV9yZWZyZXNoPTAgcmNfbG9va2FoZWFkPTQwIHJjPWNyZiBtYnRyZWU9MSBjcmY9MjMuMCBxY29tcD0wLjYwIHFwbWluPTAgcXBtYXg9NjkgcXBzdGVwPTQgaXBfcmF0aW89MS40MCBhcT0xOjEuMDAAgAAAAhNliIQAJ//+9bF8CmrJ84oM6DIu4Zckya62IuJtAMAAJShQAAADABLJlCWzIByZd0AAABMgA4ofQZQeYiYqxUCWD+hHAliAUiEwDHs75fuKV8fGCoc3tev3WSYuzeJwSaTXDy0FZ3vQxskLhGCD0enmQFdILre0DQ2yKPIVqRVGAwMKk47Q8ZngZo27sh3oqxfiNAro6D+THEFkewIeVgCjsMRe/UkNHc05j0B3U2LzF7o/EkigszoDFNEPAoEjDMO5hGNGTOQxWibvn+28L3pfh/jPMbBwahnNWi8G/6PzAiHwESXF42YmBIcGgizLVYO7Y/g71ZEZpAwbL0WLvbzlb5gwBo/Z3SDXA1dBKGofiFjGvwxjlqafrMPwk6MoKgJnyIKQ/ZM7jkkiDNNWVknyyyFe+iODcKFk2r8TvKHRYF/4vj+MJW/vpfikvVfHytq6fin5IRD82knKAAsLndth39BAczI+29uQZNn0xQM7G82nnMpq9tRUuITELS/KZdIj297vBMr4Ip2c2SbHi9yABamVRh/RyteoJ/BKyLqeG5fRhn6jTe0Nxm9eiTXcYY4+0cZE3XHGLti44WKsEa6RHgjRGgfbkPb6XcTZcRyXYsY1UJioNAAeKzhIPknmZnSCZhpLLN4gHk5b2cGnuTP+51V+a1aQWjgLQGDbCyj0AAJQAG85QAAAAwAAAwAAAwAABk0AAABlQZokbEJ//fEAAAMCn1xJeh8NXQAWs/bpbGL5RSergM/KP8GJVLDgsRQF00HNpmwSGVbqRaDkp3mQMCKBPsTh5TQMLAAZ2Ah6Dwv34EA3z0iEB43NwyJjQYpRxWCzGuiyxx72rMAAAAAvQZ5CeIR/AAAWtSs4tLYZXY3o02hw9sOAJtYArFkMRarNF6lfY4FSUAEJ2WBLD7cAAAAhAZ5hdEf/AAAjq/hbeBKdaCOIEad4tE9HS+bA1KBiU43AAAAAHwGeY2pH/wAADYSVLoAM8TNfZBeaON4EGf9IF4O27PkAAACcQZpoSahBaJlMCE///fEAAAMCnvfYbkr3y7aGNUKAEzaKOy+Ee5NA7bB/Yy07c0AYlcoNEIMcYC0HnVYJ7yNzHKICEdmyPUl6IEhFrflWWZCbyj4A4fcY2Ob3irLFems6I8Tcpb02EHm8/aKN0/mBMwmeWDAkmS+N/Oaop/KvQbobrdUgBSWbdwDQqChSrq99+4718b1dz4M1uRsxAAAAOEGehkURLCP/AAAWsyu1AkcFODg/aTicl8mRSiyYVc5ygZweUO93uowz5FUCVVGdSivadlL27mzBAAAAHgGepXRH/wAAI8MXaKmlU9T7wgmOsBgt2F0TiL5toQAAABkBnqdqR/8AACO/BCcSyWmauFZTHyl7fRYMAAAAtkGarEmoQWyZTAhP//3xAAADAqPJ9e/TsyJPWLk7Ak2Bs+NAFb2cNrbPWIcKZy37Yq7JXOYWXXZ+e0biNbp4l1agZsj+f4I9OAk9qwK6kPB1ZGPPbh0F+AWQf+o5M8rRMg6kfG2RwIXl+Y0DHzgErYA/E4j3NMiq97vgWt7YhSsSbskXsayzzkkeXL4qcw3DDhf/NL20AvaO5g6JRaMtDKFfCtJlv6IqaGVcfz/9SeG+Mfg/vLhfAAAAT0GeykUVLCP/AAAWu5m0N0NX+RRgJYPek7aZSLLCNATi1IuFItI3A1Yfo5oGWTT9Dsxb/HUbi2saPlpKzv+5wAC6dBr+kMa24tZwiwIXUt0AAAA0AZ7pdEf/AAAjwmABTkBAekjA66Cj5vJubjC40N6hBPpRUoqx2uUmAazeZlQnEDit7IhtmAAAADMBnutqR/8AACOxwQ3xjyTLMgIQvZszCjLzFVs75iHca2QAWCQQyxQb2Sj8T4Kz3VvYqMAAAAB5QZrwSahBbJlMCEf//eEAAAMD929sLes3ceHweScd5YCIkPNjRNaTz48huP7h8NQBqj/RMyxWxyGgx7G+QwoVVALYwk944MbzYOZjM4fSKvK+YOM4emxbiPXf9w+SDLgHqm2cBJdXvgAEJ01MAB7oi5IgBUc7jApfkQAAAD9Bnw5FFSwj/wAAFiuUkBYmH97233entmdgiKHTsonKqvwg8uufii6QBu8uqPekNmQD86+ABc7Jd9xIxG7M7yUAAAAiAZ8tdEf/AAAiwz4CqAF5ox5I9jr1tg6ShN+Ke5xX8YHbgQAAAB4Bny9qR/8AACK/Gs84NyNUEkA3JBaidLjBdLJpZMAAAACOQZs0SahBbJlMCE///fEAAAMCjbjikWO3SN2T6WqcIdOxQg/HJ1DeH9H+mB1BqAIpZ/L0bltNhSbLNJ8ZCMriz3FrDeK6Ipce/1n6hnr0kJAGn9EhbG+4dIEawEXJF27j0oZTUHP3hVxKOw7H2IOuLunVIpVgIdprrKVWnxvne9GukJaLmQ8j+akI/Rd8wAAAAERBn1JFFSwj/wAAFiHYowjiVk5KqVt0kFI08qIfl29aM0IuQjmgOHUR/WL1QXum3uciS3Vkor64AC3LrKjzulpBzjXRQQAAACwBn3F0R/8AACKEVEv+sm7I0DUarNf6N/hziB6F51G/7eHCpPgJNChbUciOfAAAAC8Bn3NqR/8AACKt6hx8YmQSBfqsuFGgt3sg2zz6JsxqeA9y5EzxygiP4tOWY0X4OAAAAL9Bm3hJqEFsmUwIT//98QAAAwKM7uIMa0uvdGHwCjBVKlkLAvzYXkU4nf37ZXNwjdfVVZ8ZVFRYbXHsNQYPntbLPzVflDLLJLk1EkaRphhd1j4X51FGI4fy2TiX864zeJY1B3nEDpZlxHPj+KxxE19RkibFec0IlwIkyN+KPLPh6aOElDCU3gkoYIYLaki200anQstfGkxrg8r455AUEoTZD+PZgLx4+6hoL0jhUwYayx7TUtrjvcto2E+ETN59WQAAAENBn5ZFFSwj/wAAFiH9qBxtCHOBb0XYA6ebKbkDKtRRn/EtoqyECbWncwM6y/a0Fpt0GFmiPniXKmHUaIoHV2CPzaNmAAAAMQGftXRH/wAAIqnOxZZXkKUCQbYBtmWZVEdsuFQnoLh5ohwqVPP4r5Lk0svKDuZwtmEAAAAsAZ+3akf/AAAirjEcgSI3Y7euLTIojNwC0wROq1kkSifno5QwrhAQwtYfQbUAAABNQZu8SahBbJlMCE///fEAAAMCkcn18MXSCQqac8JAZa99w2teANP2y3JHfwuAlduuvETBkN/mwDbvDhfpM6aTvJcD63/2f/3azovrtKoAAAAyQZ/aRRUsI/8AABYlNsr0znCpuLJefgOxml8X/GMVwpecLiNwDv7EAn03E/Y6/pVk23EAAAAmAZ/5dEf/AAAiqUB/WSnWT3e9nxZrlfD5tBmGRyuQmy9mb41wByQAAAAzAZ/7akf/AAAhvZac8yifXQOZKuxSHrlUXR/Kx1ntTbWJ0D4VlsNDsputzuviPmtZoLZhAAAAU0Gb4EmoQWyZTAhH//3hAAADA+BIc7cltuuNjD8c4goIBrHuaJvEewUDCTQn6HSx4eAkFHT29AXVsm9l1m85qRtQxOgmZbBYnov5NAOBkuzNyrWBAAAALUGeHkUVLCP/AAAVki7xC15qNgR30WyMpRw7AIsdK6PRG3xlLzvRSMh8fGaVKwAAACwBnj10R/8AACGpQIe0/pw8Bcd3nAonm7Z71vSsAitEEG0R7VwA/3aaGJHbgAAAADoBnj9qR/8AACGtRo75Mp1N1j40JNGEF4yjUKKMtEK8ytZxLGWwgI2XKBCl3izdyIPGsygm6tnCVY+BAAAATkGaIkmoQWyZTBRMf/yEAAAPI7CYlkuOcxTv1pW2kJL/gk4I9qjrOaSVPHMyXImEf1+dZhajniTpCsuLdauIH6ae/TgoZSlwFNykT3GcaAAAAEgBnkFqR/8AACGr/U/aMam+kpjg2FoS2XV+6c7A1x9zVCBS31UOHCyE2W+xZlcaq5Ih29lPcsG5YcpNQ2jHAcrBK21+kmvY7n0AAATObW9vdgAAAGxtdmhkAAAAAAAAAAAAAAAAAAAD6AAAArwAAQAAAQAAAAAAAAAAAAAAAAEAAAAAAAAAAAAAAAAAAAABAAAAAAAAAAAAAAAAAABAAAAAAAAAAAAAAAAAAAAAAAAAAAAAAAAAAAAAAAAAAgAAA/l0cmFrAAAAXHRraGQAAAADAAAAAAAAAAAAAAABAAAAAAAAArwAAAAAAAAAAAAAAAAAAAAAAAEAAAAAAAAAAAAAAAAAAAABAAAAAAAAAAAAAAAAAABAAAAAAlgAAAGQAAAAAAAkZWR0cwAAABxlbHN0AAAAAAAAAAEAAAK8AAACAAABAAAAAANxbWRpYQAAACBtZGhkAAAAAAAAAAAAAAAAAAAyAAAAIwBVxAAAAAAALWhkbHIAAAAAAAAAAHZpZGUAAAAAAAAAAAAAAABWaWRlb0hhbmRsZXIAAAADHG1pbmYAAAAUdm1oZAAAAAEAAAAAAAAAAAAAACRkaW5mAAAAHGRyZWYAAAAAAAAAAQAAAAx1cmwgAAAAAQAAAtxzdGJsAAAAsHN0c2QAAAAAAAAAAQAAAKBhdmMxAAAAAAAAAAEAAAAAAAAAAAAAAAAAAAAAAlgBkABIAAAASAAAAAAAAAABFUxhdmM2MS4xOS4xMDAgbGlieDI2NAAAAAAAAAAAAAAAGP//AAAANmF2Y0MBZAAf/+EAGWdkAB+s2UCYM+XhAAADAAEAAAMAZA8YMZYBAAZo6+PLIsD9+PgAAAAAFGJ0cnQAAAAAAAClOQAApTkAAAAYc3R0cwAAAAAAAAABAAAAIwAAAQAAAAAUc3RzcwAAAAAAAAABAAAAAQAAAShjdHRzAAAAAAAAACMAAAABAAACAAAAAAEAAAUAAAAAAQAAAgAAAAABAAAAAAAAAAEAAAEAAAAAAQAABQAAAAABAAACAAAAAAEAAAAAAAAAAQAAAQAAAAABAAAFAAAAAAEAAAIAAAAAAQAAAAAAAAABAAABAAAAAAEAAAUAAAAAAQAAAgAAAAABAAAAAAAAAAEAAAEAAAAAAQAABQAAAAABAAACAAAAAAEAAAAAAAAAAQAAAQAAAAABAAAFAAAAAAEAAAIAAAAAAQAAAAAAAAABAAABAAAAAAEAAAUAAAAAAQAAAgAAAAABAAAAAAAAAAEAAAEAAAAAAQAABQAAAAABAAACAAAAAAEAAAAAAAAAAQAAAQAAAAABAAADAAAAAAEAAAEAAAAAHHN0c2MAAAAAAAAAAQAAAAEAAAAjAAAAAQAAAKBzdHN6AAAAAAAAAAAAAAAjAAAEygAAAGkAAAAzAAAAJQAAACMAAACgAAAAPAAAACIAAAAdAAAAugAAAFMAAAA4AAAANwAAAH0AAABDAAAAJgAAACIAAACSAAAASAAAADAAAAAzAAAAwwAAAEcAAAA1AAAAMAAAAFEAAAA2AAAAKgAAADcAAABXAAAAMQAAADAAAAA+AAAAUgAAAEwAAAAUc3RjbwAAAAAAAAABAAAAMAAAAGF1ZHRhAAAAWW1ldGEAAAAAAAAAIWhkbHIAAAAAAAAAAG1kaXJhcHBsAAAAAAAAAAAAAAAALGlsc3QAAAAkqXRvbwAAABxkYXRhAAAAAQAAAABMYXZmNjEuNy4xMDA=\" type=\"video/mp4\">\n",
              " Your browser does not support the video tag.\n",
              " </video>"
            ],
            "text/plain": [
              "<IPython.core.display.Video object>"
            ]
          },
          "execution_count": 49,
          "metadata": {},
          "output_type": "execute_result"
        }
      ],
      "source": [
        "import gym\n",
        "from gym.wrappers import RecordVideo\n",
        "\n",
        "# Define a random agent\n",
        "def rand_policy_agent(observation):\n",
        "    return np.random.choice([0, 1])\n",
        "\n",
        "# Create environment with video recording\n",
        "env = gym.make(\"CartPole-v1\", render_mode=\"rgb_array\")\n",
        "env = RecordVideo(env, \"./video\", episode_trigger=lambda episode_id: True)\n",
        "\n",
        "observation, _ = env.reset()\n",
        "\n",
        "while True:\n",
        "    action = rand_policy_agent(observation)\n",
        "    observation, reward, done, truncated, info = env.step(action)\n",
        "\n",
        "    if done or truncated:\n",
        "        break\n",
        "\n",
        "env.close()\n",
        "\n",
        "# Function to display video in Jupyter Notebook\n",
        "from IPython.display import Video\n",
        "import os\n",
        "\n",
        "def show_video():\n",
        "    video_path = \"./video\"\n",
        "    video_files = [f for f in os.listdir(video_path) if f.endswith(\".mp4\")]\n",
        "\n",
        "    if video_files:\n",
        "        return Video(os.path.join(video_path, video_files[0]), embed=True)\n",
        "    else:\n",
        "        print(\"No video found.\")\n",
        "\n",
        "show_video()"
      ]
    },
    {
      "cell_type": "code",
      "execution_count": null,
      "metadata": {
        "id": "vB2jPVQ4-hf9"
      },
      "outputs": [],
      "source": []
    }
  ],
  "metadata": {
    "colab": {
      "provenance": [],
      "include_colab_link": true
    },
    "kernelspec": {
      "display_name": "Python 3 (ipykernel)",
      "language": "python",
      "name": "python3"
    },
    "language_info": {
      "codemirror_mode": {
        "name": "ipython",
        "version": 3
      },
      "file_extension": ".py",
      "mimetype": "text/x-python",
      "name": "python",
      "nbconvert_exporter": "python",
      "pygments_lexer": "ipython3",
      "version": "3.12.7"
    }
  },
  "nbformat": 4,
  "nbformat_minor": 0
}